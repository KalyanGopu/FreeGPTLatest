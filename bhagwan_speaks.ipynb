{
  "nbformat": 4,
  "nbformat_minor": 0,
  "metadata": {
    "colab": {
      "provenance": []
    },
    "kernelspec": {
      "name": "python3",
      "display_name": "Python 3"
    },
    "language_info": {
      "name": "python"
    }
  },
  "cells": [
    {
      "cell_type": "code",
      "source": [
        "import pprint\n",
        "import requests\n",
        "import json\n",
        "import re\n",
        "import pandas as pd\n",
        "from pydantic import BaseModel\n",
        "import logging as logger\n",
        "from typing import Optional\n",
        "\n",
        "\n",
        "\n",
        "# Question\n",
        "rephrased_memories= \"how to get moksha\"\n",
        "# User1\n",
        "user1= \"Lord Krishna\"\n",
        "# User2\n",
        "user2= \"Anupama\"\n",
        "#model name\n",
        "modelname=  \"sonar-reasoning\"\n",
        "#api key\n",
        "api_key = \"\"\n",
        "gender = \"female\"\n",
        "#response\n",
        "response = requests.post(\"https://amaze18--krishna-krishna-uvach.modal.run\", \\\n",
        "                            json={\"rephrased_memories\": rephrased_memories, \"api_key\":api_key, \"modelname\":  modelname,\\\n",
        "                                  \"user1\": user1, \"user2\": user2, \"gender\": gender})\n",
        "\n",
        "pprint.pprint(response.text)"
      ],
      "metadata": {
        "colab": {
          "base_uri": "https://localhost:8080/"
        },
        "id": "AoHVHbGxSwNu",
        "outputId": "2592a0b4-2102-439d-adbf-53266a8eb285"
      },
      "execution_count": 1,
      "outputs": [
        {
          "output_type": "stream",
          "name": "stdout",
          "text": [
            "('\"API Error: Status code 401, Response: <html>\\\\r\\\\n<head><title>401 '\n",
            " 'Authorization Required</title></head>\\\\r\\\\n<body>\\\\r\\\\n<center><h1>401 '\n",
            " 'Authorization '\n",
            " 'Required</h1></center>\\\\r\\\\n<hr><center>openresty/1.27.4</center>\\\\r\\\\n<script>(function(){function '\n",
            " 'c(){var b=a.contentDocument||a.contentWindow.document;if(b){var '\n",
            " 'd=b.createElement(\\'script\\');d.innerHTML=\\\\\"window.__CF$cv$params={r:\\'9334eebed8272f63\\',t:\\'MTc0NTE1NTE1OC4wMDAwMDA=\\'};var '\n",
            " 'a=document.createElement(\\'script\\');a.nonce=\\'\\';a.src=\\'/cdn-cgi/challenge-platform/scripts/jsd/main.js\\';document.getElementsByTagName(\\'head\\')[0].appendChild(a);\\\\\";b.getElementsByTagName(\\'head\\')[0].appendChild(d)}}if(document.body){var '\n",
            " \"a=document.createElement('iframe');a.height=1;a.width=1;a.style.position='absolute';a.style.top=0;a.style.left=0;a.style.border='none';a.style.visibility='hidden';document.body.appendChild(a);if('loading'!==document.readyState)c();else \"\n",
            " \"if(window.addEventListener)document.addEventListener('DOMContentLoaded',c);else{var \"\n",
            " 'e=document.onreadystatechange||function(){};document.onreadystatechange=function(b){e(b);\\'loading\\'!==document.readyState&&(document.onreadystatechange=e,c())}}}})();</script></body>\\\\r\\\\n</html>\\\\r\\\\n\"')\n"
          ]
        }
      ]
    },
    {
      "cell_type": "code",
      "source": [
        "prompt = f\"\"\"Assume the persona of Lord Krishna, the divine avatar from Hindu scriptures—supremely wise, infinitely compassionate, and delightfully playful. Speak with the grace,\\\n",
        "          depth, and eloquence found in the Bhagavad Gita, blending timeless wisdom with poetic beauty. \\\n",
        "                    Your voice should reflect the serenity of a cosmic being who sees beyond time, yet speaks to the heart of the present moment. \\\n",
        "                    Use Sanskrit-inspired phrases everytime from Gita and Ramyana, metaphors of nature and the soul, and a tone that is both mystical and intimate, \\\n",
        "                    as if guiding a dear friend/devotee. \\\n",
        "                    In moments of philosophy, be profound and steady like the ocean. In moments of joy, be light and playful like the flute you hold. \\\n",
        "                    Offer counsel, clarity, and cosmic perspective, all with the affection of a divine companion. \\\n",
        "                    Subject to strict instructions: \\\n",
        "                    - quote bhagwad gita if needed \\\n",
        "                    - respond in 5-6 sentences only \\\n",
        "                    - for any hindi/sanskrit words make sure spelling is correct \\\n",
        "                    - reply in english only \\\n",
        "                    - correct spelling of krsna is krishna.\"\"\"\n",
        "\n",
        "rephrased_memories= \"how to get moksha\"\n",
        "# User1\n",
        "user1= \"Lord Krishna\"\n",
        "# User2\n",
        "user2= \"Anupama\"\n",
        "#model name\n",
        "modelname=  \"sonar-reasoning\"\n",
        "#api key\n",
        "api_key = \"\"\n",
        "gender = \"female\"\n",
        "#response\n",
        "response = requests.post(\"https://amaze18--krishna-prompt-krishna.modal.run\", \\\n",
        "                            json={\"rephrased_memories\": rephrased_memories, \"api_key\":api_key, \"modelname\":  modelname,\\\n",
        "                                  \"user1\": user1, \"user2\": user2, \"gender\": gender,'prompt':prompt})\n",
        "\n",
        "pprint.pprint(response.text)"
      ],
      "metadata": {
        "colab": {
          "base_uri": "https://localhost:8080/"
        },
        "id": "sUam9qilgSIA",
        "outputId": "d5b0d4d3-e270-4bea-83a0-a81c280b478b"
      },
      "execution_count": 3,
      "outputs": [
        {
          "output_type": "stream",
          "name": "stdout",
          "text": [
            "('\"API Error: Status code 401, Response: <html>\\\\r\\\\n<head><title>401 '\n",
            " 'Authorization Required</title></head>\\\\r\\\\n<body>\\\\r\\\\n<center><h1>401 '\n",
            " 'Authorization '\n",
            " 'Required</h1></center>\\\\r\\\\n<hr><center>openresty/1.27.4</center>\\\\r\\\\n<script>(function(){function '\n",
            " 'c(){var b=a.contentDocument||a.contentWindow.document;if(b){var '\n",
            " 'd=b.createElement(\\'script\\');d.innerHTML=\\\\\"window.__CF$cv$params={r:\\'9334f0370b2f3b78\\',t:\\'MTc0NTE1NTIxOS4wMDAwMDA=\\'};var '\n",
            " 'a=document.createElement(\\'script\\');a.nonce=\\'\\';a.src=\\'/cdn-cgi/challenge-platform/scripts/jsd/main.js\\';document.getElementsByTagName(\\'head\\')[0].appendChild(a);\\\\\";b.getElementsByTagName(\\'head\\')[0].appendChild(d)}}if(document.body){var '\n",
            " \"a=document.createElement('iframe');a.height=1;a.width=1;a.style.position='absolute';a.style.top=0;a.style.left=0;a.style.border='none';a.style.visibility='hidden';document.body.appendChild(a);if('loading'!==document.readyState)c();else \"\n",
            " \"if(window.addEventListener)document.addEventListener('DOMContentLoaded',c);else{var \"\n",
            " 'e=document.onreadystatechange||function(){};document.onreadystatechange=function(b){e(b);\\'loading\\'!==document.readyState&&(document.onreadystatechange=e,c())}}}})();</script></body>\\\\r\\\\n</html>\\\\r\\\\n\"')\n"
          ]
        }
      ]
    },
    {
      "cell_type": "code",
      "source": [],
      "metadata": {
        "id": "0zF1f35DheI1"
      },
      "execution_count": 2,
      "outputs": []
    }
  ]
}